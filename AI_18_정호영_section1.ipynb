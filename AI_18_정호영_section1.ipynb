{
  "nbformat": 4,
  "nbformat_minor": 0,
  "metadata": {
    "colab": {
      "provenance": [],
      "include_colab_link": true
    },
    "kernelspec": {
      "name": "python3",
      "display_name": "Python 3"
    },
    "language_info": {
      "name": "python"
    }
  },
  "cells": [
    {
      "cell_type": "markdown",
      "metadata": {
        "id": "view-in-github",
        "colab_type": "text"
      },
      "source": [
        "<a href=\"https://colab.research.google.com/github/matHoYoung/AI_18_JHY_section1/blob/main/AI_18_%EC%A0%95%ED%98%B8%EC%98%81_section1.ipynb\" target=\"_parent\"><img src=\"https://colab.research.google.com/assets/colab-badge.svg\" alt=\"Open In Colab\"/></a>"
      ]
    },
    {
      "cell_type": "markdown",
      "source": [
        "정호영님은 게임 회사의 데이터 팀에 합류했습니다.\n",
        "\n",
        "***다음 분기에 어떤 게임을 설계해야 할까***\n",
        "\n",
        "라는 고민을 해결하기 위해, 기존의 데이터에 기반하여 인사이트를 얻고, 의사결정을 하고자 하는 것이 여러분의 목표입니다."
      ],
      "metadata": {
        "id": "KXopmdA4ZvZi"
      }
    },
    {
      "cell_type": "markdown",
      "source": [
        "\n",
        "\n",
        "# 필수 조건\n",
        "\n",
        "##다음 필수 조건은 전부 만족해야 2점을 받을 수 있습니다.\n",
        "\n",
        "- 영상 길이 조건을 만족했는가?\n",
        " 영상이 5분 ~ 10분 사이로 제작됨\n",
        "\n",
        "- 지역에 따라서 선호하는 게임 장르가 다를까 라는 질문에 대답했는가?\n",
        "\n",
        " -지역은 어떻게 구분했는지 설명함\n",
        "\n",
        " -지역별로 선호하는 게임의 장르를 파악함\n",
        "\n",
        " -지역별로 선호하는 게임의 장르가 왜 같다고/다르다고 생각했는지를 설명함\n",
        "\n",
        "- 연도별 게임의 트렌드가 있을까 라는 질문에 대답했는가?\n",
        "\n",
        " -트렌드는 어떤 것을 기준으로 파악했는지 설명함\n",
        "\n",
        " -연도별로 트렌드가 존재하는지 여부를 언급함\n",
        "\n",
        " -왜 존재한다/존재하지 않는다고 생각했는지 설명함\n",
        "\n",
        "- 인기가 많은 게임에 대한 분석 및 시각화 프로세스가 포함되었는가?\n",
        "\n",
        " -인기가 많다는 것을 어떻게 정의했는지 설명함\n",
        "\n",
        " -해당 게임이 왜 인기가 많다고 생각했는지 설명함\n",
        "\n",
        " -시각화를 통해 무엇을 나타내고자 하는지를 고려하여 파라미터를 조정함 (제목, 축이름 필수, 그 외 파라미터는 선택사항)\n",
        "\n",
        " -해당 분석을 통해 어떤 인사이트를 도출할 수 있는지 설명함\n",
        "\n",
        "- 다음 분기에 어떤 게임을 설계해야 하는지에 대한 결론이 제시되었는가?\n",
        " 분석에 대한 결론이 영상에서 제시됨\n",
        "\n",
        "# 추가 조건 (Advanced Goal)\n",
        "## 다음 추가 조건은 1개 이상 만족 시 3점을 받을 수 있습니다.\n",
        "\n",
        "-디테일한 시점 및 목표 설정이 문제 정의 과정에서 제시되었는가?\n",
        "\n",
        "-도메인 지식을 활용하여 비지니스 인사이트를 도출하였는가?\n",
        "\n",
        "-제공된 데이터셋 외에 추가 데이터를 사용하였는가?\n",
        "\n",
        "-통계적 기법을 활용한 가설 검정을 진행하였는가?\n",
        "\n",
        "-완성도 높은 시각화를 보여주었는가?\n",
        "\n",
        "-가독성, 목적성이 잘 드러나는 시각화\n",
        "\n",
        "\n",
        "ㅡㅡㅡㅡㅡㅡㅡㅡㅡㅡㅡㅡㅡㅡㅡㅡㅡㅡㅡㅡㅡㅡㅡㅡㅡㅡㅡㅡ\n",
        "\n",
        "Name : 게임의 이름입니다.\n",
        "\n",
        "Platform : 게임이 지원되는 플랫폼의 이름입니다.\n",
        "\n",
        "Year : 게임이 출시된 연도입니다.\n",
        "\n",
        "Genre : 게임의 장르입니다.\n",
        "\n",
        "Publisher : 게임을 배급한 회사입니다.\n",
        "\n",
        "NA_Sales : 북미지역에서의 출고량입니다.\n",
        "\n",
        "EU_Sales : 유럽지역에서의 출고량입니다.\n",
        "\n",
        "JP_Sales : 일본지역에서의 출고량입니다.\n",
        "\n",
        "Other_Sales : 기타지역에서의 출고량입니다.\n",
        "\n",
        "ㅡㅡㅡㅡㅡㅡㅡㅡㅡㅡㅡㅡㅡㅡㅡㅡㅡㅡㅡㅡㅡㅡㅡㅡㅡㅡㅡㅡ"
      ],
      "metadata": {
        "id": "B7JZ6mmIUNli"
      }
    },
    {
      "cell_type": "code",
      "execution_count": null,
      "metadata": {
        "id": "UDLAXzKfCHje"
      },
      "outputs": [],
      "source": [
        "import pandas as pd\n",
        "import numpy as np\n",
        "import matplotlib.pyplot as plt\n",
        "import seaborn as sns\n",
        "import sklearn\n",
        "from sklearn.preprocessing import StandardScaler\n",
        "from sklearn.cluster import KMeans"
      ]
    },
    {
      "cell_type": "code",
      "source": [
        "from google.colab import files\n",
        "uploaded = files.upload()"
      ],
      "metadata": {
        "id": "m9RN_1pZCicl"
      },
      "execution_count": null,
      "outputs": []
    },
    {
      "cell_type": "code",
      "source": [
        "game = pd.read_csv('vgames2.csv',index_col = 0)\n",
        "game.head()"
      ],
      "metadata": {
        "id": "YOh--q0HCoQb"
      },
      "execution_count": null,
      "outputs": []
    },
    {
      "cell_type": "code",
      "source": [
        "game.shape"
      ],
      "metadata": {
        "id": "-zJ0GMTZHeFe"
      },
      "execution_count": null,
      "outputs": []
    },
    {
      "cell_type": "code",
      "source": [
        "# 품질적 문제와 구조적 문제 확인하기. "
      ],
      "metadata": {
        "id": "tRpRBracC6A-"
      },
      "execution_count": null,
      "outputs": []
    },
    {
      "cell_type": "code",
      "source": [
        "# 품질적 문제 확인 \n",
        "#중복값, 결측치, 부정확한 데이터 있는지 파악해보자. "
      ],
      "metadata": {
        "id": "3TNP4TeZQZd4"
      },
      "execution_count": null,
      "outputs": []
    },
    {
      "cell_type": "code",
      "source": [
        "#중복값은 1이므로 분석 결과에 큰 영향을 끼치지 않는 다고 판단, 1개의 중복 값 제거\n",
        "game.duplicated().sum()\n",
        "game = game.drop_duplicates()"
      ],
      "metadata": {
        "id": "GzZQXY6YDc6A"
      },
      "execution_count": null,
      "outputs": []
    },
    {
      "cell_type": "code",
      "source": [
        "# index 재정렬\n",
        "game = game.reset_index(drop=True)"
      ],
      "metadata": {
        "id": "S-HVCZU4RP8K"
      },
      "execution_count": null,
      "outputs": []
    },
    {
      "cell_type": "code",
      "source": [
        "#각 컬럼별 결측치 확인하기. \n",
        "# Name 결측치 0 \n",
        "game[game['Name'].isnull()]"
      ],
      "metadata": {
        "id": "XZFnwCBCQVfC"
      },
      "execution_count": null,
      "outputs": []
    },
    {
      "cell_type": "code",
      "source": [
        "game.isnull().sum()"
      ],
      "metadata": {
        "id": "iDhhuYSZAhv0"
      },
      "execution_count": null,
      "outputs": []
    },
    {
      "cell_type": "code",
      "source": [
        "# Year, Genre, Publisher 3가지 동시의 결측치 확인  0 \n",
        "game[(game['Year'].isnull()) & (game['Genre'].isnull()) & (game['Publisher'].isnull())]"
      ],
      "metadata": {
        "id": "MMYGAuzO7szE"
      },
      "execution_count": null,
      "outputs": []
    },
    {
      "cell_type": "code",
      "source": [
        "# Year, Genre 2가지 동시의 결측치 확인  0 \n",
        "game[(game['Year'].isnull()) & (game['Genre'].isnull())]"
      ],
      "metadata": {
        "id": "0Kg5-vW08sSE"
      },
      "execution_count": null,
      "outputs": []
    },
    {
      "cell_type": "code",
      "source": [
        "# Year, Publisher 2가지 동시의 결측치 확인  22\n",
        "game_year_publisher = game[(game['Year'].isnull()) & (game['Publisher'].isnull())]\n",
        "game_year_publisher"
      ],
      "metadata": {
        "id": "oEF5e0GG8yvk"
      },
      "execution_count": null,
      "outputs": []
    },
    {
      "cell_type": "code",
      "source": [
        "# Genre, Publisher 2가지 동시의 결측치 확인  0\n",
        "game_Genre_publisher = game[(game['Genre'].isnull()) & (game['Publisher'].isnull())]\n",
        "game_Genre_publisher.shape"
      ],
      "metadata": {
        "id": "1rwwCFt28--U"
      },
      "execution_count": null,
      "outputs": []
    },
    {
      "cell_type": "code",
      "source": [
        "# 요구사항에 publisher는 없으므로 분석에 영향을 주지 않을 것이라 판단하여 삭제 처리. \n",
        "game = game.drop(['Publisher'], axis = 1)\n",
        "game"
      ],
      "metadata": {
        "id": "AJQGnATA9oj9"
      },
      "execution_count": null,
      "outputs": []
    },
    {
      "cell_type": "code",
      "source": [
        "game.isnull().sum()"
      ],
      "metadata": {
        "id": "vWbvjqYgAB0h"
      },
      "execution_count": null,
      "outputs": []
    },
    {
      "cell_type": "code",
      "source": [
        "game['Year'].value_counts()"
      ],
      "metadata": {
        "id": "2Se0sm0oFL7N"
      },
      "execution_count": null,
      "outputs": []
    },
    {
      "cell_type": "code",
      "source": [
        "# 결측치 제거\n",
        "game.dropna(subset=['Year','Genre'], inplace=True)\n",
        "game.isnull().sum()"
      ],
      "metadata": {
        "id": "0odYGoTbLIv1"
      },
      "execution_count": null,
      "outputs": []
    },
    {
      "cell_type": "code",
      "source": [
        "#year 컬럼 조건에 맞게 올바른 값으로 대체하기 \n",
        "game.Year = game.Year.astype(int).astype(str)\n",
        "game.loc[game['Year'].astype(int)<=9, 'Year'] = '200' + game.loc[game['Year'].astype(int)<=9, 'Year'].astype(str)\n",
        "game.loc[game['Year'].astype(int)<=23, 'Year'] = '20' + game.loc[game['Year'].astype(int)<=23, 'Year'].astype(str)\n",
        "game.loc[game['Year'].astype(int)<=100, 'Year'] = '19' + game.loc[game['Year'].astype(int)<=100, 'Year'].astype(str)\n",
        "game.Year = game.Year.astype(int)"
      ],
      "metadata": {
        "id": "L0fWUaiFAhFz"
      },
      "execution_count": null,
      "outputs": []
    },
    {
      "cell_type": "code",
      "source": [
        "# 품질적, 구조적 문제 완료 \n",
        "game = game.reset_index(drop=True)\n",
        "game"
      ],
      "metadata": {
        "id": "TcycBbNRFmP0"
      },
      "execution_count": null,
      "outputs": []
    },
    {
      "cell_type": "markdown",
      "source": [
        "- 지역에 따라서 선호하는 게임 장르가 다를까 라는 질문에 대답했는가?\n",
        "\n",
        "-지역은 어떻게 구분했는지 설명함\n",
        "\n",
        "-지역별로 선호하는 게임의 장르를 파악함\n",
        "\n",
        "-지역별로 선호하는 게임의 장르가 왜 같다고/다르다고 생각했는지를 설명함"
      ],
      "metadata": {
        "id": "fQvbVXM1X-kO"
      }
    },
    {
      "cell_type": "code",
      "source": [
        "# 요구 조건에 맞는 시각화 진행 \n",
        "# 1. 지역별 선호하는 게임의 장르 파악 \n",
        "game_Genre = game[['Genre','NA_Sales','EU_Sales','JP_Sales', 'Other_Sales']]\n",
        "game_Genre"
      ],
      "metadata": {
        "id": "vA0yYrTDT8xL"
      },
      "execution_count": null,
      "outputs": []
    },
    {
      "cell_type": "code",
      "source": [],
      "metadata": {
        "id": "t9xrT9cDAhZe"
      },
      "execution_count": null,
      "outputs": []
    },
    {
      "cell_type": "code",
      "source": [
        "game[\"NA_Sales\"] = game[\"NA_Sales\"].str.replace(\"M\",\"\")"
      ],
      "metadata": {
        "id": "SoKmqD7oByJd"
      },
      "execution_count": null,
      "outputs": []
    },
    {
      "cell_type": "code",
      "source": [
        "game['NA_Sales'].unique()"
      ],
      "metadata": {
        "id": "R6GGZs1-BovV"
      },
      "execution_count": null,
      "outputs": []
    },
    {
      "cell_type": "code",
      "source": [
        "# 장르 별 NA, EU, JP, OTHER 의 합계를 산정하여 시각화 진행하기 \n",
        "# 장르 12 가지 ['Action', 'Adventure', 'Misc', 'Platform', 'Sports', 'Simulation','Racing', 'Role-Playing', 'Puzzle', 'Strategy', 'Fighting','Shooter]"
      ],
      "metadata": {
        "id": "12Bas6ghYeUh"
      },
      "execution_count": null,
      "outputs": []
    },
    {
      "cell_type": "code",
      "source": [
        "game.NA_Sales = game.NA_Sales.astype(float)\n",
        "game.EU_Sales = game.EU_Sales.astype(float)\n",
        "game.JP_Sales = game.JP_Sales.astype(float)\n",
        "game.Other_Sales = game.Other_Sales.astype(float)"
      ],
      "metadata": {
        "id": "0WCnsD2VbRhv"
      },
      "execution_count": null,
      "outputs": []
    }
  ]
}